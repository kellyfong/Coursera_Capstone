{
 "cells": [
  {
   "cell_type": "markdown",
   "metadata": {},
   "source": [
    "## Week 4  - The Battle of Neighborhoods"
   ]
  },
  {
   "cell_type": "markdown",
   "metadata": {},
   "source": [
    "**Introduction/Business Problem**\n",
    "\n",
    "An entrepreneur is interested to invest in starting up a stall in Scarborough,Toronto premises. He has yet to decide on the type of stall he is opening, and the exact location/neighbourhood to set up. Hence, he will be doing an analysis to determine the most well-received stall category as well as the most popular neighbourhood in Scarborough, Toronto.\n",
    "\n",
    "**Data Section - Description of the data and how it will be used to solve the problem** \n",
    "\n",
    "Given that we are interested to explore the neighbourhood of Scarborough Toronto as well as the venues around that neighbourhood, we will require the list of location/neighbourhood around Scarborough, Toronto. In addition, we would also require the information of the stalls, broken by category around that neighbourhood alongside with the data tagged to the stalls. \n",
    "\n",
    "With this, we wil be scraping the postal codes of Scarborough, Toronoto through the Wikipedia website ( https://en.wikipedia.org/wiki/List_of_postal_codes_of_Canada:_M). Followed by using the Foursquare data to retrieve the venues in the respective neighbourhoods and to conduct analysis on which stall category is the most popular and in which neighbourhood. "
   ]
  }
 ],
 "metadata": {
  "kernelspec": {
   "display_name": "Python 3",
   "language": "python",
   "name": "python3"
  },
  "language_info": {
   "codemirror_mode": {
    "name": "ipython",
    "version": 3
   },
   "file_extension": ".py",
   "mimetype": "text/x-python",
   "name": "python",
   "nbconvert_exporter": "python",
   "pygments_lexer": "ipython3",
   "version": "3.7.6"
  }
 },
 "nbformat": 4,
 "nbformat_minor": 4
}
